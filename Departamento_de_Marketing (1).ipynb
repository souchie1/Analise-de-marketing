{
 "cells": [
  {
   "cell_type": "markdown",
   "metadata": {
    "id": "M27qF7CTrBqc"
   },
   "source": [
    "# Departamento de marketing\n",
    "\n",
    "- Dados: https://www.kaggle.com/arjunbhasin2013/ccdata\n",
    "\n"
   ]
  },
  {
   "cell_type": "markdown",
   "metadata": {
    "id": "zKmFmyaGunc7"
   },
   "source": [
    "## Importação das bibliotecas e base de dados"
   ]
  },
  {
   "cell_type": "code",
   "execution_count": null,
   "metadata": {
    "id": "dqPqWliq8m6W"
   },
   "outputs": [],
   "source": [
    "import pandas as pd\n",
    "import numpy as np\n",
    "import seaborn as sns\n",
    "import matplotlib.pyplot as plt\n",
    "import plotly.express as px\n",
    "from sklearn.preprocessing import StandardScaler#  para padronizar dados\n",
    "from sklearn.cluster import KMeans # para agrupamento de clientes ou segmentação de mercado\n",
    "from sklearn.decomposition import PCA # para redução de dimensionalidade dos dados"
   ]
  },
  {
   "cell_type": "code",
   "execution_count": null,
   "metadata": {
    "id": "Pcg28Z3M8_3W"
   },
   "outputs": [],
   "source": [
    "df = pd.read_csv(r'I:\\ARQUIVOS PROJETOS\\CC GENERAL.csv')"
   ]
  },
  {
   "cell_type": "code",
   "execution_count": null,
   "metadata": {
    "colab": {
     "base_uri": "https://localhost:8080/",
     "height": 55
    },
    "id": "HU7WbkvE9Gz6",
    "outputId": "c2b055b8-fce5-47cc-b4de-0aaa17f05910"
   },
   "outputs": [],
   "source": [
    "df.shape"
   ]
  },
  {
   "cell_type": "code",
   "execution_count": null,
   "metadata": {
    "colab": {
     "base_uri": "https://localhost:8080/",
     "height": 228
    },
    "id": "m_vm5Pmj9PNG",
    "outputId": "19ee5f64-c041-4fc8-925b-cb0cc4e496ea"
   },
   "outputs": [],
   "source": [
    "df.columns"
   ]
  },
  {
   "cell_type": "code",
   "execution_count": null,
   "metadata": {},
   "outputs": [],
   "source": [
    "len(df.columns)"
   ]
  },
  {
   "cell_type": "code",
   "execution_count": null,
   "metadata": {},
   "outputs": [],
   "source": [
    "# Dicionário de mapeamento de nomes originais para traduções\n",
    "traducoes = {\n",
    "    'CUST_ID': 'ID_DO_CLIENTE',\n",
    "    'BALANCE': 'SALDO_EM_CONTA',\n",
    "    'BALANCE_FREQUENCY': 'FREQUENCIA_SALDO',\n",
    "    'PURCHASES': 'VALOR_COMPRAS',\n",
    "    'ONEOFF_PURCHASES': 'COMPRAS_A_VISTA',\n",
    "    'INSTALLMENTS_PURCHASES': 'COMPRAS_PARCELADAS',\n",
    "    'CASH_ADVANCE': 'ADIANTAMENTO_SAQUE_EM_DINHEIRO',\n",
    "    'PURCHASES_FREQUENCY': 'FREQUENCIA_DE_COMPRAS',\n",
    "    'ONEOFF_PURCHASES_FREQUENCY': 'FREQUENCIA_DE_COMPRAS_A_VISTA',\n",
    "    'PURCHASES_INSTALLMENTS_FREQUENCY': 'FREQUENCIA_DE_COMPRAS_PARCELADAS',\n",
    "    'CASH_ADVANCE_FREQUENCY': 'FREQUENCIA_DE_ADIANTAMENTO_SAQUE_EM_DINHEIRO',\n",
    "    'CASH_ADVANCE_TRX': 'TRANSACOES_DE_ADIANTAMENTO_SAQUE_EM_DINHEIRO',\n",
    "    'PURCHASES_TRX': 'NUMERO_TRANSACOES_DE_COMPRAS',\n",
    "    'CREDIT_LIMIT': 'LIMITE_DE_CREDITO_CARTAO',\n",
    "    'PAYMENTS': 'PAGAMENTOS_COM_CARTAO',\n",
    "    'MINIMUM_PAYMENTS': 'PAGAMENTOS_MINIMOS_FATURA',\n",
    "    'PRC_FULL_PAYMENT': 'PERCENTUAL_DE_PAGAMENTO_TOTAL_FATURA',\n",
    "    'TENURE': 'ANOS_COMO_CLIENTE'\n",
    "}\n",
    "\n",
    "# Renomeando as colunas no DataFrame\n",
    "df.rename(columns=traducoes, inplace=True)"
   ]
  },
  {
   "cell_type": "code",
   "execution_count": null,
   "metadata": {},
   "outputs": [],
   "source": [
    "df.head()"
   ]
  },
  {
   "cell_type": "code",
   "execution_count": null,
   "metadata": {},
   "outputs": [],
   "source": [
    "df.tail()"
   ]
  },
  {
   "cell_type": "code",
   "execution_count": null,
   "metadata": {},
   "outputs": [],
   "source": [
    "df.dtypes"
   ]
  },
  {
   "cell_type": "code",
   "execution_count": null,
   "metadata": {},
   "outputs": [],
   "source": [
    "df.dtypes.value_counts()"
   ]
  },
  {
   "cell_type": "code",
   "execution_count": null,
   "metadata": {
    "colab": {
     "base_uri": "https://localhost:8080/",
     "height": 477
    },
    "id": "a6ND8Em3-NuO",
    "outputId": "ffec1476-8c0f-4726-c218-8bd001f39fa6"
   },
   "outputs": [],
   "source": [
    "df.info()"
   ]
  },
  {
   "cell_type": "code",
   "execution_count": null,
   "metadata": {
    "colab": {
     "base_uri": "https://localhost:8080/",
     "height": 372
    },
    "id": "_zV-5p2jE3Rf",
    "outputId": "b2444501-58da-40d9-e18d-b13206927dd3"
   },
   "outputs": [],
   "source": [
    "df.isnull().sum()"
   ]
  },
  {
   "cell_type": "code",
   "execution_count": null,
   "metadata": {
    "colab": {
     "base_uri": "https://localhost:8080/",
     "height": 484
    },
    "id": "lckBNDdTDl50",
    "outputId": "d0cd306e-6fb9-4dad-dbf3-104dfdc8a8fc"
   },
   "outputs": [],
   "source": [
    "sns.heatmap(df.isnull());"
   ]
  },
  {
   "cell_type": "code",
   "execution_count": null,
   "metadata": {
    "colab": {
     "base_uri": "https://localhost:8080/",
     "height": 323
    },
    "id": "0qPc2t1T-YpE",
    "outputId": "a8adf0f5-59a6-43ac-aedd-f6ce30fa6aee",
    "scrolled": false
   },
   "outputs": [],
   "source": [
    "df.describe()"
   ]
  },
  {
   "cell_type": "markdown",
   "metadata": {},
   "source": [
    "Vamos analisar as informações apresentadas:\n",
    "\n",
    "SALDO_EM_CONTA (saldo em conta):\n",
    "\n",
    "Média: 1564,47\n",
    "Desvio Padrão: 2081.53\n",
    "Mínimo: 0\n",
    "Máximo: 19043.14\n",
    "O saldo médio em conta é 1564,47, mas a variabilidade é alta, conforme indicado pelo desvio padrão. O saldo mínimo é 0, e o saldo máximo é 19043,14.\n",
    "\n",
    "FREQUENCIA_SALDO (Frequência de Saldo):\n",
    "\n",
    "Média: 0,877\n",
    "Desvio Padrão: 0,237\n",
    "Mínimo: 0\n",
    "Máximo: 1\n",
    "A frequência de saldo varia de 0 a 1, com uma média de 0,877. Parece haver uma alta frequência de clientes com saldo.\n",
    "\n",
    "VALOR_COMPRAS (Valor de compras):\n",
    "\n",
    "Média: 1003,20\n",
    "Desvio Padrão: 2136.63\n",
    "Mínimo: 0\n",
    "Máximo: 49039,57\n",
    "O valor médio de compras é 1003,20, mas a variabilidade é alta, com um valor máximo de 49039,57.\n",
    "\n",
    "COMPRAS_A_VISTA (Compras à vista):\n",
    "\n",
    "Média: 592,44\n",
    "Desvio Padrão: 1659,89\n",
    "Mínimo: 0\n",
    "Máximo: 40761,25\n",
    "O valor médio de compras à vista é 592,44, com uma alta variabilidade.\n",
    "\n",
    "COMPRAS_PARCELADAS (Compras parceladas):\n",
    "\n",
    "Média: 411,07\n",
    "Desvio Padrão: 904.34\n",
    "Mínimo: 0\n",
    "Máximo: 22500,00\n",
    "O valor médio de compras parceladas é 411,07, com uma variabilidade significativa.\n",
    "\n",
    "ADIANTAMENTO_SAQUE_EM_DINHEIRO (Adiantamento/Saque em dinheiro):\n",
    "\n",
    "Média: 978,87\n",
    "Desvio Padrão: 2097.16\n",
    "Mínimo: 0\n",
    "Máximo: 47137,21\n",
    "O valor médio de adiantamento/saque em dinheiro é 978,87, com uma alta variabilidade.\n",
    "\n",
    "FREQUENCIA_DE_COMPRAS (Frequência de compras):\n",
    "\n",
    "Média: 0,490\n",
    "Desvio Padrão: 0,401\n",
    "Mínimo: 0\n",
    "Máximo: 1\n",
    "A frequência média de compras é 0,490, diminuindo que os clientes não fazem compras com uma frequência muito alta.\n",
    "\n",
    "FREQUENCIA_DE_COMPRAS_A_VISTA (Frequência de compras à vista):\n",
    "\n",
    "Média: 0,202\n",
    "Desvio Padrão: 0,298\n",
    "Mínimo: 0\n",
    "Máximo: 1\n",
    "A frequência média de compras à vista é de 0,202, diminuindo que a maioria das compras é parcelada.\n",
    "\n",
    "FREQUENCIA_DE_COMPRAS_PARCELADAS (Frequência de compras parceladas):\n",
    "\n",
    "Média: 0,364\n",
    "Desvio Padrão: 0,397\n",
    "Mínimo: 0\n",
    "Máximo: 1\n",
    "A frequência média de compras parceladas é 0,364, indicando uma distribuição equilibrada entre compras à vista e parceladas.\n",
    "\n",
    "FREQUENCIA_DE_ADIANTAMENTO_SAQUE_EM_DINHEIRO (Frequência de adiantamento/saque em dinheiro):\n",
    "\n",
    "Média: 0,135\n",
    "Desvio Padrão: 0,200\n",
    "Mínimo: 0\n",
    "Máximo: 1,5\n",
    "A frequência média de adiantamento/saque em dinheiro é 0,135, o que não é uma ocorrência comum.\n",
    "\n",
    "TRANSACOES_DE_ADIANTAMENTO_SAQUE_EM_DINHEIRO (Transações de adiantamento/saque em dinheiro):\n",
    "Média: 3,25\n",
    "Desvio Padrão: 6,82\n",
    "Mínimo: 0\n",
    "Máximo: 123\n",
    "O número médio de transações de adiantamento/saque em dinheiro é 3,25, com uma variabilidade significativa.\n",
    "\n",
    "NUMERO_TRANSACOES_DE_COMPRAS (Número de transações de compras):\n",
    "Média: 14,71\n",
    "Desvio Padrão: 24,86\n",
    "Mínimo: 1\n",
    "Máximo: 358\n",
    "O número médio de transações de compras é 14,71, com uma variabilidade específica.\n",
    "\n",
    "LIMITE_DE_CREDITO_CARTAO (Limite de crédito do cartão):\n",
    "Média: 4494,45\n",
    "Desvio Padrão: 3638.82\n",
    "Mínimo: 50\n",
    "Máximo: 30000\n",
    "O limite médio de crédito do cartão é 4494,45, com uma variabilidade específica.\n",
    "\n",
    "PAGAMENTOS_COM_CARTAO (Pagamentos com cartão):\n",
    "Média: 1733,14\n",
    "Desvio Padrão: 2895.06\n",
    "Mínimo: 0,019\n",
    "Máximo: 50721,48\n",
    "O valor médio de pagamentos com cartão é 1733,14, com uma variabilidade significativa.\n",
    "\n",
    "PAGAMENTOS_MINIMOS_FATURA (Pagamentos mínimos de fatura):\n",
    "Média: 864,21\n",
    "Desvio Padrão: 2372.45\n",
    "Mínimo: 0\n",
    "Máximo: 76406.21\n",
    "O valor médio dos pagamentos mínimos da fatura é 864,21, com uma variabilidade significativa.\n",
    "\n",
    "PERCENTUAL_DE_PAGAMENTO_TOTAL_FATURA (Percentual de pagamento total da fatura):\n",
    "Média: 0,154\n",
    "Desvio Padrão: 0,292\n",
    "Mínimo: 0\n",
    "Máximo: 1\n",
    "O percentual médio de pagamento total da fatura é 0,154, indicando que os clientes tendem a pagar uma parte da fatura, mas não o valor total.\n",
    "\n",
    "ANOS_COMO_CLIENTE (Anos como cliente):\n",
    "Média: 11,52\n",
    "Desvio Padrão: 1,34\n",
    "Mínimo: 6\n",
    "Máximo: 12\n",
    "O tempo médio de permanência como cliente é de 11,52 anos, com uma variabilidade baixa. A maioria dos clientes parece ter dados longos.\n",
    "\n",
    "Essa análise fornece uma visão geral das características e comportamentos dos clientes com base nos dados fornecidos."
   ]
  },
  {
   "cell_type": "code",
   "execution_count": null,
   "metadata": {},
   "outputs": [],
   "source": [
    "# Crie um gráfico de barras para a média de cada coluna\n",
    "fig = px.bar(df.describe().loc['mean'], labels={'value': 'Média'})\n",
    "\n",
    "# Exiba o gráfico\n",
    "fig.show()"
   ]
  },
  {
   "cell_type": "code",
   "execution_count": null,
   "metadata": {},
   "outputs": [],
   "source": [
    "df.duplicated().sum()"
   ]
  },
  {
   "cell_type": "code",
   "execution_count": null,
   "metadata": {},
   "outputs": [],
   "source": [
    "plt.figure(figsize=(12, 8))\n",
    "sns.boxplot(data=df)\n",
    "plt.xticks(rotation=45, ha='right')  # Adjust rotation angle and horizontal alignment as needed\n",
    "plt.title('Boxplot of DataFrame')\n",
    "plt.show()"
   ]
  },
  {
   "cell_type": "code",
   "execution_count": null,
   "metadata": {},
   "outputs": [],
   "source": [
    "import plotly.graph_objects as go\n",
    "from plotly.subplots import make_subplots\n",
    "import pandas as pd\n",
    "\n",
    "# Crie subplots com base no número de colunas\n",
    "fig = make_subplots(rows=4, cols=2, subplot_titles=[\n",
    "    'SALDO_EM_CONTA',\n",
    "    'VALOR_COMPRAS',\n",
    "    'COMPRAS_A_VISTA',\n",
    "    'COMPRAS_PARCELADAS',\n",
    "    'ADIANTAMENTO_SAQUE_EM_DINHEIRO',\n",
    "    'LIMITE_DE_CREDITO_CARTAO',\n",
    "    'PAGAMENTOS_COM_CARTAO',\n",
    "    'PAGAMENTOS_MINIMOS_FATURA'\n",
    "])\n",
    "\n",
    "# Adicione os gráficos individuais\n",
    "fig.add_trace(go.Scatter(x=df.index, y=df['SALDO_EM_CONTA']), row=1, col=1)\n",
    "fig.add_trace(go.Scatter(x=df.index, y=df['VALOR_COMPRAS']), row=1, col=2)\n",
    "fig.add_trace(go.Scatter(x=df.index, y=df['COMPRAS_A_VISTA']), row=2, col=1)\n",
    "fig.add_trace(go.Scatter(x=df.index, y=df['COMPRAS_PARCELADAS']), row=2, col=2)\n",
    "fig.add_trace(go.Scatter(x=df.index, y=df['ADIANTAMENTO_SAQUE_EM_DINHEIRO']), row=3, col=1)\n",
    "fig.add_trace(go.Scatter(x=df.index, y=df['LIMITE_DE_CREDITO_CARTAO']), row=3, col=2)\n",
    "fig.add_trace(go.Scatter(x=df.index, y=df['PAGAMENTOS_COM_CARTAO']), row=4, col=1)\n",
    "fig.add_trace(go.Scatter(x=df.index, y=df['PAGAMENTOS_MINIMOS_FATURA']), row=4, col=2)\n",
    "\n",
    "# Atualize o layout para adicionar títulos e rótulos\n",
    "fig.update_layout(title_text='Subplots com Dados Financeiros',\n",
    "                  showlegend=False)\n",
    "\n",
    "# Exiba o gráfico\n",
    "fig.show()"
   ]
  },
  {
   "cell_type": "code",
   "execution_count": null,
   "metadata": {},
   "outputs": [],
   "source": [
    "def calculate_outliers(column):\n",
    "    try:\n",
    "        # Tenta converter para float\n",
    "        column = column.astype(float)\n",
    "    except ValueError:\n",
    "        print(f\"Column {column.name} contains non-numeric values and will be skipped.\")\n",
    "        return None\n",
    "\n",
    "    Q1 = column.quantile(0.25)\n",
    "    Q3 = column.quantile(0.75)\n",
    "    IQR = Q3 - Q1\n",
    "    lower_bound = Q1 - 1.5 * IQR\n",
    "    upper_bound = Q3 + 1.5 * IQR\n",
    "    outliers = (column < lower_bound) | (column > upper_bound)\n",
    "    return outliers\n",
    "\n",
    "# Calcular outliers para cada coluna\n",
    "outliers_dict = {col: calculate_outliers(df[col]) for col in df.columns}\n",
    "\n",
    "# Exibir o número de outliers para cada coluna\n",
    "for col, outliers in outliers_dict.items():\n",
    "    if outliers is not None:\n",
    "        print(f\"Column {col}: {outliers.sum()} outliers\")\n"
   ]
  },
  {
   "cell_type": "markdown",
   "metadata": {
    "id": "LlszUhNNyrl_"
   },
   "source": [
    "## Visualização e exploração dos dados"
   ]
  },
  {
   "cell_type": "code",
   "execution_count": null,
   "metadata": {},
   "outputs": [],
   "source": [
    "num_clientes_compraram_a_vista = (df['COMPRAS_A_VISTA'] > 0).sum()\n",
    "\n",
    "print(f\"Número de clientes que realizaram compras à vista: {num_clientes_compraram_a_vista}\")\n"
   ]
  },
  {
   "cell_type": "code",
   "execution_count": null,
   "metadata": {},
   "outputs": [],
   "source": [
    "# Criar variável indicando se o cliente fez compras únicas\n",
    "df['FEZ_COMPRAS_A_VISTA'] = df['COMPRAS_A_VISTA'] > 0\n",
    "\n",
    "# Filtrar apenas os clientes que fizeram compras únicas\n",
    "clientes_compraram_a_vista = df[df['FEZ_COMPRAS_A_VISTA']]['ID_DO_CLIENTE']"
   ]
  },
  {
   "cell_type": "code",
   "execution_count": null,
   "metadata": {},
   "outputs": [],
   "source": [
    "clientes_compraram_a_vista"
   ]
  },
  {
   "cell_type": "code",
   "execution_count": null,
   "metadata": {
    "colab": {
     "base_uri": "https://localhost:8080/",
     "height": 101
    },
    "id": "JHtdgW67AK2p",
    "outputId": "90ce6f47-4d11-405d-efe2-e98d924e3ba7"
   },
   "outputs": [],
   "source": [
    "# Filtrar o DataFrame para obter as linhas onde 'ID_DO_CLIENTE' é igual a 'C10574'\n",
    "resultado = df[df['ID_DO_CLIENTE'] == 'C10574']\n",
    "resultado"
   ]
  },
  {
   "cell_type": "markdown",
   "metadata": {},
   "source": [
    "ID_DO_CLIENTE: C10574\n",
    "\n",
    "SALDO_EM_CONTA: 11547.52\n",
    "\n",
    "O saldo em conta para este cliente é de 11547,52.\n",
    "FREQUÊNCIA_SALDO: 1,0\n",
    "\n",
    "A frequência de saldo para este cliente é 1,0, o que indica uma alta frequência.\n",
    "VALOR_COMPRAS: 49039,57\n",
    "\n",
    "O valor total de compras para este cliente é 49039,57.\n",
    "COMPRAS_A_VISTA: 40761,25\n",
    "\n",
    "O valor total de compras à vista para este cliente é 40761,25.\n",
    "COMPRAS_PARCELADAS: 8278,32\n",
    "\n",
    "O valor total de compras parceladas para este cliente é 8278,32.\n",
    "ADIANTAMENTO_SAQUE_EM_DINHEIRO: 558,17\n",
    "\n",
    "O valor total de adiantamento/saque em dinheiro para este cliente é 558,17.\n",
    "FREQUÊNCIA_DE_COMPRAS: 1.0\n",
    "\n",
    "A frequência de compras para este cliente é 1.0, diminuindo uma alta frequência.\n",
    "FREQUENCIA_DE_COMPRAS_A_VISTA: 1.0\n",
    "\n",
    "A frequência de compras à vista para este cliente é 1,0, diminuindo que todas as compras são à vista.\n",
    "FREQUENCIA_DE_COMPRAS_PARCELADAS: 0,92\n",
    "\n",
    "A frequência de compras parceladas para este cliente é de 0,92, inferior a que a maioria das compras são parceladas.\n",
    "FREQUENCIA_DE_ADIANTAMENTO_SAQUE_EM_DINHEIRO: 0,08\n",
    "\n",
    "A frequência de adiantamento/saque em dinheiro para este cliente é 0,08, diminuindo que isso não é uma ocorrência comum.\n",
    "TRANSACOES_DE_ADIANTAMENTO_SAQUE_EM_DINHEIRO: 1\n",
    "\n",
    "O número total de transações de adiantamento/saque em dinheiro para este cliente é 1.\n",
    "NUMERO_TRANSACOES_DE_COMPRAS: 101\n",
    "\n",
    "O número total de transações de compras para este cliente é 101.\n",
    "LIMITE_DE_CREDITO_CARTAO: 22500,0\n",
    "\n",
    "O limite de crédito do cartão para este cliente é 22500,0.\n",
    "PAGAMENTOS_COM_CARTAO: 46930.60\n",
    "\n",
    "O total de pagamentos com cartão para este cliente é 46930,60.\n",
    "PAGAMENTOS_MINIMOS_FATURA: 2974.07\n",
    "\n",
    "O total de pagamentos mínimos da fatura para este cliente é 2.974,07.\n",
    "PERCENTUAL_DE_PAGAMENTO_TOTAL_FATURA: 0,25\n",
    "\n",
    "O percentual de pagamento total da fatura para este cliente é 0,25, indicando que ele paga uma parte significativa da fatura, mas não o valor total.\n",
    "ANOS_COMO_CLIENTE: 12\n",
    "\n",
    "Este cliente é cliente há 12 anos.\n",
    "FEZ_COMPRAS_A_VISTA: Verdadeiro\n",
    "\n",
    "Este cliente fez compras à vista.\n",
    "Esta análise detalhada fornece uma visão mais aprofundada do comportamento e das características específicas do cliente com o ID \"C10574\" em seu conjunto de dados."
   ]
  },
  {
   "cell_type": "code",
   "execution_count": null,
   "metadata": {},
   "outputs": [],
   "source": [
    "num_clientes_compras_parceladas = (df['COMPRAS_PARCELADAS'] > 0).sum()\n",
    "\n",
    "print(f\"Número de clientes que realizaram compras parceladas: {num_clientes_compras_parceladas}\")"
   ]
  },
  {
   "cell_type": "code",
   "execution_count": null,
   "metadata": {},
   "outputs": [],
   "source": [
    "# Criar variável indicando se o cliente fez compras únicas\n",
    "df['FEZ_COMPRAS_PARCELADAS'] = df['COMPRAS_PARCELADAS'] > 0\n",
    "\n",
    "# Filtrar apenas os clientes que fizeram compras únicas\n",
    "clientes_compras_parceladas = df[df['FEZ_COMPRAS_PARCELADAS']]['ID_DO_CLIENTE']"
   ]
  },
  {
   "cell_type": "code",
   "execution_count": null,
   "metadata": {},
   "outputs": [],
   "source": [
    "clientes_compras_parceladas"
   ]
  },
  {
   "cell_type": "code",
   "execution_count": null,
   "metadata": {},
   "outputs": [],
   "source": [
    "# Contar o número de pessoas que fizeram tanto compra à vista quanto compra parcelada\n",
    "num_pessoas_ambas_as_compras = df[(df['FEZ_COMPRAS_A_VISTA'] == True) & (df['FEZ_COMPRAS_PARCELADAS'] == True)].shape[0]\n",
    "\n",
    "print(f\"Número de pessoas que fizeram tanto compra à vista quanto compra parcelada: {num_pessoas_ambas_as_compras}\")\n"
   ]
  },
  {
   "cell_type": "code",
   "execution_count": null,
   "metadata": {},
   "outputs": [],
   "source": [
    "# Criar variável indicando se o cliente fez compras únicas\n",
    "df['AMBAS_COMPRAS'] = (df['FEZ_COMPRAS_A_VISTA'] & df['FEZ_COMPRAS_PARCELADAS'])\n",
    "\n",
    "# Filtrar apenas os clientes que fizeram compras únicas\n",
    "clientes_ambas_as_compras = df[df['AMBAS_COMPRAS']]['ID_DO_CLIENTE']\n",
    "\n"
   ]
  },
  {
   "cell_type": "code",
   "execution_count": null,
   "metadata": {},
   "outputs": [],
   "source": [
    "clientes_ambas_as_compras"
   ]
  },
  {
   "cell_type": "code",
   "execution_count": null,
   "metadata": {},
   "outputs": [],
   "source": [
    "import matplotlib.pyplot as plt\n",
    "\n",
    "# Criar uma coluna para indicar se um cliente fez ambas as compras\n",
    "df['AMBAS_COMPRAS'] = (df['FEZ_COMPRAS_A_VISTA'] & df['FEZ_COMPRAS_PARCELADAS'])\n",
    "\n",
    "# Dados\n",
    "clientes = df['ID_DO_CLIENTE']\n",
    "compras_a_vista = df['COMPRAS_A_VISTA']\n",
    "compras_parceladas = df['COMPRAS_PARCELADAS']\n",
    "ambas_compras = df['AMBAS_COMPRAS']\n",
    "\n",
    "# Criar o gráfico de barras\n",
    "fig, ax = plt.subplots(figsize=(10, 6))\n",
    "bar_width = 0.20\n",
    "bar1 = ax.bar(clientes, compras_a_vista, bar_width, label='Compras à Vista', color='blue')\n",
    "bar2 = ax.bar(clientes, compras_parceladas, bar_width, label='Compras Parceladas', color='orange', bottom=compras_a_vista)\n",
    "bar3 = ax.bar(clientes, ambas_compras, bar_width, label='Ambas as Compras', color='green', bottom=compras_a_vista + compras_parceladas)\n",
    "\n",
    "# Adicionar rótulos e título\n",
    "ax.set_xlabel('Clientes')\n",
    "ax.set_ylabel('Valor das Compras')\n",
    "ax.set_title('Compras à Vista, Parceladas e Ambas por Cliente')\n",
    "ax.legend()\n",
    "\n",
    "# Mostrar o gráfico\n",
    "plt.show()\n"
   ]
  },
  {
   "cell_type": "code",
   "execution_count": null,
   "metadata": {},
   "outputs": [],
   "source": [
    "# Calcular a média da FREQUENCIA_DE_COMPRAS por ID_DO_CLIENTE\n",
    "frequencia_media_por_cliente = df.groupby('ID_DO_CLIENTE')['FREQUENCIA_DE_COMPRAS'].mean()\n",
    "frequencia_media_por_cliente"
   ]
  },
  {
   "cell_type": "code",
   "execution_count": null,
   "metadata": {},
   "outputs": [],
   "source": [
    "# Calcular o número total de transações de compras por ID_DO_CLIENTE\n",
    "transacoes_por_cliente = df.groupby('ID_DO_CLIENTE')['NUMERO_TRANSACOES_DE_COMPRAS'].sum()\n",
    "\n",
    "# Exibir o resultado\n",
    "print(transacoes_por_cliente)"
   ]
  },
  {
   "cell_type": "code",
   "execution_count": null,
   "metadata": {},
   "outputs": [],
   "source": [
    "# Calcular a média geral de transações de compras\n",
    "media_geral_transacoes = df['NUMERO_TRANSACOES_DE_COMPRAS'].mean()\n",
    "\n",
    "# Exibir o resultado\n",
    "print(\"Média geral de transações de compras:\", media_geral_transacoes)"
   ]
  },
  {
   "cell_type": "code",
   "execution_count": null,
   "metadata": {
    "scrolled": true
   },
   "outputs": [],
   "source": [
    "# Calcular a soma total de transações de compras por ID_DO_CLIENTE\n",
    "transacoes_por_cliente = df.groupby('ID_DO_CLIENTE')['NUMERO_TRANSACOES_DE_COMPRAS'].sum()\n",
    "\n",
    "# Encontrar o ID_DO_CLIENTE com a maior quantidade de transações de compras\n",
    "cliente_maior_transacoes = transacoes_por_cliente.idxmax()\n",
    "\n",
    "# Obter o número total de transações para o cliente com a maior quantidade\n",
    "num_total_transacoes = transacoes_por_cliente.loc[cliente_maior_transacoes]\n",
    "\n",
    "# Exibir o resultado\n",
    "print(\"ID_DO_CLIENTE com a maior quantidade de transações de compras:\", cliente_maior_transacoes)\n",
    "print(\"Número total de transações para esse cliente:\", num_total_transacoes)\n",
    "\n"
   ]
  },
  {
   "cell_type": "code",
   "execution_count": null,
   "metadata": {},
   "outputs": [],
   "source": [
    "# Calcular o número total de transações de compras por ID_DO_CLIENTE\n",
    "transacoes_por_cliente = df.groupby('ID_DO_CLIENTE')['NUMERO_TRANSACOES_DE_COMPRAS'].sum().reset_index()\n",
    "\n",
    "# Encontrar as 100 maiores transações de compras\n",
    "top_10_transacoes = transacoes_por_cliente.nlargest(10, 'NUMERO_TRANSACOES_DE_COMPRAS')\n",
    "\n",
    "# Plotar o gráfico\n",
    "fig = px.bar(top_10_transacoes, x='ID_DO_CLIENTE', y='NUMERO_TRANSACOES_DE_COMPRAS', title='Top 10 Maiores Transações de Compras')\n",
    "fig.show()"
   ]
  },
  {
   "cell_type": "code",
   "execution_count": null,
   "metadata": {},
   "outputs": [],
   "source": [
    "''' Calcular o número total de transações de compras por ID_DO_CLIENTE\n",
    "transacoes_por_cliente = df.groupby('ID_DO_CLIENTE')['NUMERO_TRANSACOES_DE_COMPRAS'].sum().reset_index()\n",
    "\n",
    "# Encontrar as 10 menores transações de compras\n",
    "bottom_10_transacoes = transacoes_por_cliente.nsmallest(10, 'NUMERO_TRANSACOES_DE_COMPRAS')\n",
    "\n",
    "# Plotar o gráfico\n",
    "fig = px.bar(bottom_10_transacoes, x='ID_DO_CLIENTE', y='NUMERO_TRANSACOES_DE_COMPRAS', title='Top 10 Menores Transações de Compras')\n",
    "fig.show()'''"
   ]
  },
  {
   "cell_type": "code",
   "execution_count": null,
   "metadata": {
    "colab": {
     "base_uri": "https://localhost:8080/",
     "height": 55
    },
    "id": "-UIUMZkiCUdw",
    "outputId": "0cc39189-51fc-44b5-d476-981d06a81530"
   },
   "outputs": [],
   "source": [
    "df['ADIANTAMENTO_SAQUE_EM_DINHEIRO'].max()"
   ]
  },
  {
   "cell_type": "code",
   "execution_count": null,
   "metadata": {},
   "outputs": [],
   "source": [
    "# cLIENTES QUE MAIS SOLICITAM ADIANTAMENTO"
   ]
  },
  {
   "cell_type": "code",
   "execution_count": null,
   "metadata": {},
   "outputs": [],
   "source": [
    "df['ADIANTAMENTO_SAQUE_EM_DINHEIRO'].min()"
   ]
  },
  {
   "cell_type": "code",
   "execution_count": null,
   "metadata": {},
   "outputs": [],
   "source": [
    "# Calcular o valor médio de 'ADIANTAMENTO_EM_DINHEIRO' por ID_DO_CLIENTE\n",
    "adiantamento_medio_por_cliente = df.groupby('ID_DO_CLIENTE')['ADIANTAMENTO_SAQUE_EM_DINHEIRO'].mean()\n",
    "\n",
    "# Exibir o resultado\n",
    "print(adiantamento_medio_por_cliente)"
   ]
  },
  {
   "cell_type": "code",
   "execution_count": null,
   "metadata": {},
   "outputs": [],
   "source": [
    "# Calcular a média geral do adiantamento\n",
    "media_geral_adiantamento = df['ADIANTAMENTO_SAQUE_EM_DINHEIRO'].mean()\n",
    "\n",
    "# Exibir o resultado\n",
    "print(\"Média geral do adiantamento:\", media_geral_adiantamento)"
   ]
  },
  {
   "cell_type": "code",
   "execution_count": null,
   "metadata": {},
   "outputs": [],
   "source": [
    "# Contar o número de clientes que solicitaram ADIANTAMENTO_EM_DINHEIRO (ADIANTAMENTO_EM_DINHEIRO > 0)\n",
    "num_clientes_com_adiantamento = (df['ADIANTAMENTO_SAQUE_EM_DINHEIRO'] > 0).sum()\n",
    "percentual_com_adiantamento = (df['ADIANTAMENTO_SAQUE_EM_DINHEIRO'] > 0).mean() * 100\n",
    "\n",
    "# Exibir os resultados\n",
    "print(\"Número de clientes que solicitaram ADIANTAMENTO_SAQUE_EM_DINHEIRO:\", num_clientes_com_adiantamento)\n",
    "print(\"Percentual de clientes que solicitaram ADIANTAMENTO_SAQUE_EM_DINHEIRO:\", percentual_com_adiantamento, \"%\")"
   ]
  },
  {
   "cell_type": "code",
   "execution_count": null,
   "metadata": {},
   "outputs": [],
   "source": [
    "# Contar o número de clientes que não solicitaram ADIANTAMENTO_EM_DINHEIRO (ADIANTAMENTO_EM_DINHEIRO == 0)\n",
    "num_clientes_sem_adiantamento = (df['ADIANTAMENTO_SAQUE_EM_DINHEIRO'] == 0).sum()\n",
    "percentual_sem_adiantamento = (df['ADIANTAMENTO_SAQUE_EM_DINHEIRO'] == 0).mean() * 100\n",
    "\n",
    "# Exibir os resultados\n",
    "print(\"Número de clientes que não solicitaram ADIANTAMENTO_SAQUE_EM_DINHEIRO:\", num_clientes_sem_adiantamento)\n",
    "print(\"Percentual de clientes que não solicitaram ADIANTAMENTO_SAQUE_EM_DINHEIRO:\", percentual_sem_adiantamento, \"%\")"
   ]
  },
  {
   "cell_type": "code",
   "execution_count": null,
   "metadata": {
    "colab": {
     "base_uri": "https://localhost:8080/",
     "height": 101
    },
    "id": "0YqNI1J1BOy2",
    "outputId": "e5ba89ee-1f8b-444e-fac1-01e878915b20"
   },
   "outputs": [],
   "source": [
    "# Obter os IDs dos clientes que solicitaram ADIANTAMENTO_EM_DINHEIRO\n",
    "id_clientes_com_adiantamento = df[df['ADIANTAMENTO_SAQUE_EM_DINHEIRO'] > 0]['ID_DO_CLIENTE']\n",
    "id_clientes_com_adiantamento"
   ]
  },
  {
   "cell_type": "code",
   "execution_count": null,
   "metadata": {},
   "outputs": [],
   "source": [
    "# Obter os IDs dos clientes que solicitaram ADIANTAMENTO_EM_DINHEIRO\n",
    "id_clientes_sem_adiantamento = df[df['ADIANTAMENTO_SAQUE_EM_DINHEIRO'] == 0]['ID_DO_CLIENTE']\n",
    "id_clientes_sem_adiantamento"
   ]
  },
  {
   "cell_type": "code",
   "execution_count": null,
   "metadata": {},
   "outputs": [],
   "source": [
    "# Calcular o valor médio de 'ADIANTAMENTO_EM_DINHEIRO' por ID_DO_CLIENTE\n",
    "adiantamento_medio_por_cliente = df.groupby('ID_DO_CLIENTE')['ADIANTAMENTO_SAQUE_EM_DINHEIRO'].mean().reset_index()\n",
    "\n",
    "# Encontrar os 10 maiores valores médios de 'ADIANTAMENTO_EM_DINHEIRO'\n",
    "top_10_adiantamento_medio = adiantamento_medio_por_cliente.nlargest(10, 'ADIANTAMENTO_SAQUE_EM_DINHEIRO')\n",
    "\n",
    "# Plotar o gráfico\n",
    "fig = px.bar(top_10_adiantamento_medio, x='ID_DO_CLIENTE', y='ADIANTAMENTO_SAQUE_EM_DINHEIRO', title='Top 10 Maiores Valores Médios de Adiantamento')\n",
    "fig.show()"
   ]
  },
  {
   "cell_type": "code",
   "execution_count": null,
   "metadata": {},
   "outputs": [],
   "source": [
    "''' Calcular o valor médio de 'ADIANTAMENTO_SAQUE_EM_DINHEIRO' por ID_DO_CLIENTE\n",
    "adiantamento_medio_por_cliente = df.groupby('ID_DO_CLIENTE')['ADIANTAMENTO_SAQUE_EM_DINHEIRO'].mean().reset_index()\n",
    "\n",
    "# Encontrar os 10 menores valores médios de 'ADIANTAMENTO_EM_DINHEIRO'\n",
    "bottom_10_adiantamento_medio = adiantamento_medio_por_cliente.nsmallest(10, 'ADIANTAMENTO_SAQUE_EM_DINHEIRO')\n",
    "\n",
    "# Plotar o gráfico\n",
    "fig = px.bar(bottom_10_adiantamento_medio, x='ID_DO_CLIENTE', y='ADIANTAMENTO_SAQUE_EM_DINHEIRO', title='Top 10 Menores Valores Médios de Adiantamento')\n",
    "fig.show()\n",
    "'''"
   ]
  },
  {
   "cell_type": "code",
   "execution_count": null,
   "metadata": {},
   "outputs": [],
   "source": [
    "# Calcular o saldo médio por ID_DO_CLIENTE\n",
    "saldo_medio_por_cliente = df.groupby('ID_DO_CLIENTE')['SALDO_EM_CONTA'].mean()\n",
    "\n",
    "# Exibir o resultado\n",
    "print(saldo_medio_por_cliente)"
   ]
  },
  {
   "cell_type": "code",
   "execution_count": null,
   "metadata": {},
   "outputs": [],
   "source": [
    "# Encontrar o ID_DO_CLIENTE com o maior saldo\n",
    "cliente_maior_saldo = df.loc[df['SALDO_EM_CONTA'].idxmax(), 'ID_DO_CLIENTE']\n",
    "\n",
    "# Obter o valor do maior saldo\n",
    "maior_saldo = df['SALDO_EM_CONTA'].max()\n",
    "\n",
    "# Exibir o resultado\n",
    "print(\"ID_DO_CLIENTE com o maior saldo:\", cliente_maior_saldo)\n",
    "print(\"Maior saldo:\", maior_saldo)"
   ]
  },
  {
   "cell_type": "code",
   "execution_count": null,
   "metadata": {},
   "outputs": [],
   "source": [
    "# Calcular o saldo geral por ID_DO_CLIENTE\n",
    "saldo_geral_por_cliente = df.groupby('ID_DO_CLIENTE')['SALDO_EM_CONTA'].sum()\n",
    "\n",
    "# Calcular a média do saldo geral\n",
    "media_saldo_geral = saldo_geral_por_cliente.mean()\n",
    "\n",
    "# Exibir o resultado\n",
    "print(\"Média do saldo geral:\", media_saldo_geral)"
   ]
  },
  {
   "cell_type": "code",
   "execution_count": null,
   "metadata": {},
   "outputs": [],
   "source": [
    "# Encontrar os 10 maiores saldos por cliente\n",
    "top_10_maiores_saldos = df.groupby('ID_DO_CLIENTE')['SALDO_EM_CONTA'].max().nlargest(10).reset_index()\n",
    "\n",
    "# Plotar o gráfico\n",
    "fig = px.bar(top_10_maiores_saldos, x='ID_DO_CLIENTE', y='SALDO_EM_CONTA', title='Top 10 Maiores Saldos por Cliente')\n",
    "fig.show()"
   ]
  },
  {
   "cell_type": "code",
   "execution_count": null,
   "metadata": {},
   "outputs": [],
   "source": [
    "df['PERCENTUAL_DE_PAGAMENTO_TOTAL_FATURA'] "
   ]
  },
  {
   "cell_type": "code",
   "execution_count": null,
   "metadata": {},
   "outputs": [],
   "source": [
    "df['PERCENTUAL_DE_PAGAMENTO_TOTAL_FATURA'].max()"
   ]
  },
  {
   "cell_type": "code",
   "execution_count": null,
   "metadata": {},
   "outputs": [],
   "source": [
    "df['PERCENTUAL_DE_PAGAMENTO_TOTAL_FATURA'].min() "
   ]
  },
  {
   "cell_type": "code",
   "execution_count": null,
   "metadata": {},
   "outputs": [],
   "source": [
    "df['PERCENTUAL_DE_PAGAMENTO_TOTAL_FATURA'].mean()"
   ]
  },
  {
   "cell_type": "code",
   "execution_count": null,
   "metadata": {},
   "outputs": [],
   "source": [
    "df['ANOS_COMO_CLIENTE'].max()"
   ]
  },
  {
   "cell_type": "code",
   "execution_count": null,
   "metadata": {},
   "outputs": [],
   "source": [
    "df['ANOS_COMO_CLIENTE'].min()"
   ]
  },
  {
   "cell_type": "code",
   "execution_count": null,
   "metadata": {},
   "outputs": [],
   "source": [
    "df['ANOS_COMO_CLIENTE'].mean()"
   ]
  },
  {
   "cell_type": "code",
   "execution_count": null,
   "metadata": {},
   "outputs": [],
   "source": [
    "df['PAGAMENTOS_MINIMOS_FATURA'].isnull().sum()"
   ]
  },
  {
   "cell_type": "code",
   "execution_count": null,
   "metadata": {},
   "outputs": [],
   "source": [
    "df['PAGAMENTOS_MINIMOS_FATURA'].mean()"
   ]
  },
  {
   "cell_type": "code",
   "execution_count": null,
   "metadata": {
    "id": "h-gfH4EVFD51"
   },
   "outputs": [],
   "source": [
    "# preencher os pagamentos minimos que estão como nulos com a média do mesmo\n",
    "df.loc[(df['PAGAMENTOS_MINIMOS_FATURA'].isnull() == True), 'PAGAMENTOS_MINIMOS_FATURA'] = df['PAGAMENTOS_MINIMOS_FATURA'].mean()"
   ]
  },
  {
   "cell_type": "code",
   "execution_count": null,
   "metadata": {},
   "outputs": [],
   "source": [
    "df['PAGAMENTOS_MINIMOS_FATURA'].isnull().sum()"
   ]
  },
  {
   "cell_type": "code",
   "execution_count": null,
   "metadata": {},
   "outputs": [],
   "source": [
    "# Encontrar o ID_DO_CLIENTE com o maior valor de pagamento mínimo\n",
    "cliente_maior_minimo = df.loc[df['PAGAMENTOS_MINIMOS_FATURA'].idxmax(), 'ID_DO_CLIENTE']\n",
    "\n",
    "# Obter o valor do maior pagamento mínimo\n",
    "maior_minimo = df['PAGAMENTOS_MINIMOS_FATURA'].max()\n",
    "\n",
    "# Exibir o resultado\n",
    "print(\"ID_DO_CLIENTE com o maior pagamento mínimo:\", cliente_maior_minimo)\n",
    "print(\"Maior pagamento mínimo:\", maior_minimo)"
   ]
  },
  {
   "cell_type": "code",
   "execution_count": null,
   "metadata": {},
   "outputs": [],
   "source": [
    "# Encontrar o ID_DO_CLIENTE com o menor valor de PAGAMENTOS_MINIMOS\n",
    "cliente_menor_minimo = df.loc[df['PAGAMENTOS_MINIMOS_FATURA'].idxmin(), 'ID_DO_CLIENTE']\n",
    "\n",
    "# Obter o valor do menor PAGAMENTOS_MINIMOS\n",
    "menor_minimo = df['PAGAMENTOS_MINIMOS_FATURA'].min()\n",
    "\n",
    "# Exibir o resultado\n",
    "print(\"ID_DO_CLIENTE com o menor pagamento mínimo:\", cliente_menor_minimo)\n",
    "print(\"Menor pagamento mínimo:\", menor_minimo)"
   ]
  },
  {
   "cell_type": "code",
   "execution_count": null,
   "metadata": {
    "colab": {
     "base_uri": "https://localhost:8080/",
     "height": 55
    },
    "id": "YKuaRf3kF0OZ",
    "outputId": "33d23822-f88a-4f14-9428-3f35097e4025"
   },
   "outputs": [],
   "source": [
    "df['LIMITE_DE_CREDITO_CARTAO']"
   ]
  },
  {
   "cell_type": "code",
   "execution_count": null,
   "metadata": {},
   "outputs": [],
   "source": [
    "df['LIMITE_DE_CREDITO_CARTAO'].isnull().sum()"
   ]
  },
  {
   "cell_type": "code",
   "execution_count": null,
   "metadata": {},
   "outputs": [],
   "source": [
    "df['LIMITE_DE_CREDITO_CARTAO'].mean()"
   ]
  },
  {
   "cell_type": "code",
   "execution_count": null,
   "metadata": {
    "id": "2l7_EgH7FswK"
   },
   "outputs": [],
   "source": [
    "# preencher os limite crédito que estão como nulos com a média do mesmo\n",
    "\n",
    "df.loc[(df['LIMITE_DE_CREDITO_CARTAO'].isnull() == True), 'LIMITE_DE_CREDITO_CARTAO'] = df['LIMITE_DE_CREDITO_CARTAO'].mean()"
   ]
  },
  {
   "cell_type": "code",
   "execution_count": null,
   "metadata": {
    "colab": {
     "base_uri": "https://localhost:8080/",
     "height": 372
    },
    "id": "PBlz4EROF6Dl",
    "outputId": "78d70d9d-09d3-4110-d0ed-f024be755966"
   },
   "outputs": [],
   "source": [
    "df.isnull().sum()"
   ]
  },
  {
   "cell_type": "code",
   "execution_count": null,
   "metadata": {},
   "outputs": [],
   "source": []
  },
  {
   "cell_type": "code",
   "execution_count": null,
   "metadata": {
    "colab": {
     "base_uri": "https://localhost:8080/",
     "height": 484
    },
    "id": "1WyDngyGF9du",
    "outputId": "79118d2a-4747-4005-d9d4-cbb28d10cc9f"
   },
   "outputs": [],
   "source": [
    "sns.heatmap(df.isnull());"
   ]
  },
  {
   "cell_type": "code",
   "execution_count": null,
   "metadata": {},
   "outputs": [],
   "source": [
    "df['LIMITE_DE_CREDITO_CARTAO'].max()"
   ]
  },
  {
   "cell_type": "code",
   "execution_count": null,
   "metadata": {},
   "outputs": [],
   "source": [
    "df['LIMITE_DE_CREDITO_CARTAO'].min()"
   ]
  },
  {
   "cell_type": "code",
   "execution_count": null,
   "metadata": {
    "scrolled": true
   },
   "outputs": [],
   "source": [
    "# Plotar o gráfico de dispersão\n",
    "fig = px.scatter(df, x='SALDO_EM_CONTA', y='NUMERO_TRANSACOES_DE_COMPRAS', color='ID_DO_CLIENTE', title='Relação entre Saldo e Transações de Compras')\n",
    "fig.show()\n"
   ]
  },
  {
   "cell_type": "code",
   "execution_count": null,
   "metadata": {},
   "outputs": [],
   "source": [
    "# Renomear as colunas no DataFrame\n",
    "df = df.rename(columns={'LIMITE_DE_CREDITO_CARTAO': 'Limite de Crédito', 'NUMERO_TRANSACOES_DE_COMPRAS': 'Transacoes de Compra'})\n",
    "\n",
    "# Criar o gráfico de dispersão usando Plotly Express\n",
    "fig = px.scatter(df, x='Limite de Crédito Cartao', y= 'Número Transacoes de Compra', \n",
    "                 title='Relação entre Limite de Crédito e Número Transações de Compra',\n",
    "                 labels={'Limite de Crédito Cartão': 'Limite de Crédito Cartão', 'Numero Transacoes de Compra': 'Numero Transações de Compra'})\n",
    "\n",
    "# Adicionar linha de tendência\n",
    "fig.update_traces(marker=dict(size=12, color='blue'), selector=dict(mode='markers'))\n",
    "\n",
    "# Exibir o gráfico\n",
    "fig.show()\n",
    "\n",
    "# Exibir o DataFrame com a nova coluna\n",
    "print(df)\n"
   ]
  },
  {
   "cell_type": "code",
   "execution_count": null,
   "metadata": {},
   "outputs": [],
   "source": [
    "# Configurar a figura com subplots\n",
    "fig, axes = plt.subplots(nrows=1, ncols=2, figsize=(12, 5))\n",
    "\n",
    "# Plotar histograma para SALDO\n",
    "sns.histplot(df['SALDO_EM_CONTA'], bins=10, kde=True, color='skyblue', ax=axes[0])\n",
    "axes[0].set_title('Distribuição de Saldo')\n",
    "axes[0].set_xlabel('Saldo em conta')\n",
    "\n",
    "# Plotar histograma para COMPRAS\n",
    "sns.histplot(df['VALOR_COMPRAS'], bins=10, kde=True, color='salmon', ax=axes[1])\n",
    "axes[1].set_title('Distribuição de valor compras')\n",
    "axes[1].set_xlabel('VALOR_COMPRAS')\n",
    "\n",
    "# Ajustar o layout\n",
    "plt.tight_layout()\n",
    "\n",
    "# Exibir os histogramas\n",
    "plt.show()"
   ]
  },
  {
   "cell_type": "code",
   "execution_count": null,
   "metadata": {},
   "outputs": [],
   "source": [
    "# Aplicar K-means\n",
    "kmeans = KMeans(n_clusters=3, random_state=42)\n",
    "df['Segmento'] = kmeans.fit_predict(df[['SALDO_EM_CONTA', 'VALOR_COMPRAS']])\n",
    "\n",
    "# Visualizar a segmentação\n",
    "plt.figure(figsize=(8, 6))\n",
    "sns.scatterplot(x='SALDO_EM_CONTA', y='VALOR_COMPRAS', hue='Segmento', data=df, palette='viridis', s=100)\n",
    "plt.title('Segmentação de Clientes')\n",
    "plt.xlabel('Saldo_EM_CONTA')\n",
    "plt.ylabel('VALOR_COMPRAS')\n",
    "plt.show()"
   ]
  },
  {
   "cell_type": "code",
   "execution_count": null,
   "metadata": {},
   "outputs": [],
   "source": [
    "# Estatísticas descritivas\n",
    "desc_compras_parceladas = df['COMPRAS_PARCELADAS'].describe()\n",
    "desc_freq_compras_parceladas = df['FREQUENCIA_DE_COMPRAS_PARCELADAS'].describe()\n",
    "\n",
    "print(\"Estatísticas Descritivas para COMPRAS_PARCELADAS:\")\n",
    "print(desc_compras_parceladas)\n",
    "\n",
    "print(\"\\nEstatísticas Descritivas para FREQUENCIA_DE_COMPRAS_PARCELADAS:\")\n",
    "desc_freq_compras_parceladas"
   ]
  },
  {
   "cell_type": "code",
   "execution_count": null,
   "metadata": {
    "scrolled": true
   },
   "outputs": [],
   "source": [
    "# Histograma para COMPRAS_PARCELADAS\n",
    "plt.figure(figsize=(12, 6))\n",
    "plt.subplot(1, 2, 1)\n",
    "sns.histplot(df['COMPRAS_PARCELADAS'], bins=10, kde=True, color='skyblue')\n",
    "plt.title('Distribuição de COMPRAS_PARCELADAS')\n",
    "\n",
    "# Histograma para FREQUENCIA_DE_COMPRAS_PARCELADAS\n",
    "plt.subplot(1, 2, 2)\n",
    "sns.histplot(df['FREQUENCIA_DE_COMPRAS_PARCELADAS'], bins=10, kde=True, color='salmon')\n",
    "plt.title('Distribuição de FREQUENCIA_DE_COMPRAS_PARCELADAS')\n",
    "\n",
    "plt.show()\n"
   ]
  },
  {
   "cell_type": "code",
   "execution_count": null,
   "metadata": {},
   "outputs": [],
   "source": [
    "# Estatísticas descritivas\n",
    "desc_pagamentos_minimos = df['PAGAMENTOS_MINIMOS_FATURA'].describe()\n",
    "desc_percentual_pagamento_total = df['PERCENTUAL_DE_PAGAMENTO_TOTAL_FATURA'].describe()\n",
    "\n",
    "print(\"Estatísticas Descritivas para PAGAMENTOS_MINIMOS_FATURA:\")\n",
    "print(desc_pagamentos_minimos)\n",
    "\n",
    "print(\"\\nEstatísticas Descritivas para PERCENTUAL_DE_PAGAMENTO_TOTAL_FATURA:\")\n",
    "print(desc_percentual_pagamento_total)\n"
   ]
  },
  {
   "cell_type": "code",
   "execution_count": null,
   "metadata": {},
   "outputs": [],
   "source": [
    "# Histograma para PAGAMENTOS_MINIMOS\n",
    "plt.figure(figsize=(12, 6))\n",
    "plt.subplot(1, 2, 1)\n",
    "sns.histplot(df['PAGAMENTOS_MINIMOS_FATURA'], bins=10, kde=True, color='blue')\n",
    "plt.title('Distribuição de PAGAMENTOS_MINIMOS_FATURA')\n",
    "\n",
    "# Histograma para PERCENTUAL_DE_PAGAMENTO_TOTAL\n",
    "plt.subplot(1, 2, 2)\n",
    "sns.histplot(df['PERCENTUAL_DE_PAGAMENTO_TOTAL_FATURA'], bins=10, kde=True, color='orange')\n",
    "plt.title('Distribuição de PERCENTUAL_DE_PAGAMENTO_TOTAL_FATURA')\n",
    "\n",
    "plt.show()\n"
   ]
  },
  {
   "cell_type": "code",
   "execution_count": null,
   "metadata": {},
   "outputs": [],
   "source": [
    "clientes_compras_a_vista = df[df['FEZ_COMPRAS_A_VISTA'] == 1]\n"
   ]
  },
  {
   "cell_type": "code",
   "execution_count": null,
   "metadata": {},
   "outputs": [],
   "source": [
    "# Estatísticas descritivas para o grupo de clientes que fez compras apenas uma vez\n",
    "desc_a_vista = clientes_compras_a_vista.describe()\n",
    "print(\"Estatísticas Descritivas para Clientes que Fizeram Compras a Vista:\")\n",
    "print(desc_a_vista)\n"
   ]
  },
  {
   "cell_type": "code",
   "execution_count": null,
   "metadata": {},
   "outputs": [],
   "source": [
    "# Exemplo: Histograma para SALDO dos clientes que fizeram compras apenas uma vez\n",
    "plt.figure(figsize=(8, 6))\n",
    "sns.histplot(clientes_uma_vez['SALDO_EM_CONTA'], bins=10, kde=True, color='purple')\n",
    "plt.title('Distribuição de SALDO para Clientes que Fizeram Compras Apenas Uma Vez')\n",
    "plt.xlabel('Saldo em Conta')\n",
    "plt.ylabel('Frequência')\n",
    "plt.show()\n"
   ]
  },
  {
   "cell_type": "code",
   "execution_count": null,
   "metadata": {},
   "outputs": [],
   "source": [
    "# Exemplo: Histograma para SALDO dos clientes que fizeram compras apenas uma vez\n",
    "plt.figure(figsize=(8, 6))\n",
    "sns.histplot(clientes_uma_vez['SALDO_EM_CONTA'], bins=10, kde=True, color='purple')\n",
    "plt.title('Distribuição de SALDO para Clientes que Fizeram Compras Apenas Uma Vez')\n",
    "plt.xlabel('Saldo em conta')\n",
    "plt.ylabel('Frequência')\n",
    "plt.show()\n"
   ]
  },
  {
   "cell_type": "code",
   "execution_count": null,
   "metadata": {},
   "outputs": [],
   "source": [
    "# Gráfico de dispersão\n",
    "plt.figure(figsize=(10, 6))\n",
    "sns.scatterplot(x='Limite de Crédito cartão', y='Número Transacoes de Compra', data=df, color='blue')\n",
    "plt.title('Relação entre Limite de Crédito e Transações de Compra')\n",
    "plt.xlabel('Limite de Crédito')\n",
    "plt.ylabel('Transações de Compra')\n",
    "plt.show()\n"
   ]
  },
  {
   "cell_type": "code",
   "execution_count": null,
   "metadata": {},
   "outputs": [],
   "source": [
    "# Exemplo: Boxplot para diferentes grupos de Limite de Crédito\n",
    "plt.figure(figsize=(12, 6))\n",
    "sns.boxplot(x='Limite de Crédito', y='Transacoes de Compra', data=df)\n",
    "plt.title('Distribuição de Transações de Compra por Limite de Crédito')\n",
    "plt.xlabel('Limite de Crédito')\n",
    "plt.ylabel('Transações de Compra')\n",
    "plt.show()\n"
   ]
  },
  {
   "cell_type": "code",
   "execution_count": null,
   "metadata": {
    "id": "2fCnRxyyKM-6"
   },
   "outputs": [],
   "source": [
    "numeric_df = df.select_dtypes(include='number')\n",
    "correlations = numeric_df.corr()\n"
   ]
  },
  {
   "cell_type": "code",
   "execution_count": null,
   "metadata": {
    "colab": {
     "base_uri": "https://localhost:8080/",
     "height": 1000
    },
    "id": "6sF75TeqKSd3",
    "outputId": "9f15f1a1-4455-4480-e8a1-cd61563ef5b9"
   },
   "outputs": [],
   "source": [
    "f, ax = plt.subplots(figsize=(20,20))\n",
    "sns.heatmap(correlations, annot=True);"
   ]
  },
  {
   "cell_type": "code",
   "execution_count": null,
   "metadata": {},
   "outputs": [],
   "source": [
    "correlacao_limite_compra = df['Limite de Crédito'].corr(df['Transacoes de Compra'])\n",
    "print(f\"\\nCorrelação entre Limite de Crédito e Transações de Compra: {correlacao_limite_compra}\")\n"
   ]
  },
  {
   "cell_type": "code",
   "execution_count": null,
   "metadata": {},
   "outputs": [],
   "source": [
    "# Gráfico de dispersão\n",
    "plt.figure(figsize=(8, 6))\n",
    "sns.scatterplot(x='ADIANTAMENTO_SAQUE_EM_DINHEIRO', y='numero_TRANSACOES_DE_ADIANTAMENTO_EM_DINHEIRO', data=df, color='blue')\n",
    "plt.title('Relação entre ADIANTAMENTO_EM_DINHEIRO e TRANSACOES_DE_ADIANTAMENTO_EM_DINHEIRO')\n",
    "plt.xlabel('ADIANTAMENTO_SAQUE_EM_DINHEIRO')\n",
    "plt.ylabel('NUMERO_TRANSACOES_DE_ADIANTAMENTO_EM_DINHEIRO')\n",
    "plt.show()\n",
    "\n",
    "# Correlação\n",
    "correlacao_adiantamento = df['ADIANTAMENTO_SAQUE_EM_DINHEIRO'].corr(df['NUMERO_TRANSACOES_DE_ADIANTAMENTO_EM_DINHEIRO'])\n",
    "print(f\"\\nCorrelação entre ADIANTAMENTO_EM_DINHEIRO e TRANSACOES_DE_ADIANTAMENTO_EM_DINHEIRO: {correlacao_adiantamento}\")\n"
   ]
  },
  {
   "cell_type": "code",
   "execution_count": null,
   "metadata": {
    "scrolled": true
   },
   "outputs": [],
   "source": [
    "# Gráfico de dispersão\n",
    "plt.figure(figsize=(8, 6))\n",
    "sns.scatterplot(x='COMPRAS_PARCELADAS', y='FREQUENCIA_DE_COMPRAS_PARCELADAS', data=df, color='purple')\n",
    "plt.title('Relação entre COMPRAS_PARCELADAS e FREQUENCIA_DE_COMPRAS_PARCELADAS')\n",
    "plt.xlabel('COMPRAS_PARCELADAS')\n",
    "plt.ylabel('FREQUENCIA_DE_COMPRAS_PARCELADAS')\n",
    "plt.show()\n",
    "\n",
    "# Correlação\n",
    "correlacao = df['COMPRAS_PARCELADAS'].corr(df['FREQUENCIA_DE_COMPRAS_PARCELADAS'])\n",
    "print(f\"\\nCorrelação entre COMPRAS_PARCELADAS e FREQUENCIA_DE_COMPRAS_PARCELADAS: {correlacao}\")\n"
   ]
  },
  {
   "cell_type": "code",
   "execution_count": null,
   "metadata": {},
   "outputs": [],
   "source": [
    "# Gráfico de dispersão\n",
    "plt.figure(figsize=(8, 6))\n",
    "sns.scatterplot(x='PAGAMENTOS_MINIMOS_FATURA', y='PERCENTUAL_DE_PAGAMENTO_TOTAL_FATURA', data=df, color='green')\n",
    "plt.title('Relação entre PAGAMENTOS_MINIMOS e PERCENTUAL_DE_PAGAMENTO_TOTAL')\n",
    "plt.xlabel('PAGAMENTOS_MINIMOS_FATURA)\n",
    "plt.ylabel('PERCENTUAL_DE_PAGAMENTO_TOTAL_FATURA')\n",
    "plt.show()\n",
    "\n",
    "# Correlação\n",
    "correlacao_pagamentos = df['PAGAMENTOS_MINIMOS_FATURA'].corr(df['PERCENTUAL_DE_PAGAMENTO_TOTAL_FATURA'])\n",
    "print(f\"\\nCorrelação entre PAGAMENTOS_MINIMOS e PERCENTUAL_DE_PAGAMENTO_TOTAL: {correlacao_pagamentos}\")\n"
   ]
  },
  {
   "cell_type": "code",
   "execution_count": null,
   "metadata": {
    "id": "SJG6Hdc3fhq1"
   },
   "outputs": [],
   "source": [
    "df.drop('ID_DO_CLIENTE', axis = 1, inplace = True)"
   ]
  },
  {
   "cell_type": "code",
   "execution_count": null,
   "metadata": {},
   "outputs": [],
   "source": [
    "len(df.columns)"
   ]
  },
  {
   "cell_type": "code",
   "execution_count": null,
   "metadata": {
    "colab": {
     "base_uri": "https://localhost:8080/",
     "height": 228
    },
    "id": "lS5KoIplGXh1",
    "outputId": "5854ed5a-6304-4679-d170-b1c2d2c485b9"
   },
   "outputs": [],
   "source": [
    "df.head()"
   ]
  },
  {
   "cell_type": "code",
   "execution_count": null,
   "metadata": {},
   "outputs": [],
   "source": [
    "plt.figure(figsize=(10, 50))\n",
    "\n",
    "# Choose the number of rows and columns in the subplot grid\n",
    "num_rows = 17\n",
    "num_cols = 1\n",
    "\n",
    "# Limit the loop iteration to the minimum of the number of columns and the number of subplots\n",
    "for i in range(min(len(df.columns), num_rows * num_cols)):\n",
    "    plt.subplot(num_rows, num_cols, i + 1)\n",
    "    sns.distplot(df[df.columns[i]], kde=True)\n",
    "    plt.title(df.columns[i])\n",
    "\n",
    "plt.tight_layout()\n",
    "plt.show()"
   ]
  },
  {
   "cell_type": "markdown",
   "metadata": {
    "id": "Y0GmpAjG3GiH"
   },
   "source": [
    "## Definição do número de clusters usando o Elbow Method\n",
    "\n",
    "- Mais detalhes\n",
    "  - https://en.wikipedia.org/wiki/Elbow_method_(clustering)\n",
    "  - https://www.geeksforgeeks.org/elbow-method-for-optimal-value-of-k-in-kmeans/"
   ]
  },
  {
   "cell_type": "code",
   "execution_count": null,
   "metadata": {
    "colab": {
     "base_uri": "https://localhost:8080/",
     "height": 55
    },
    "id": "EeAlBGs2ghtb",
    "outputId": "7224ac68-1e07-45eb-d846-43550b948122"
   },
   "outputs": [],
   "source": [
    "min(creditcard_df['BALANCE']), max(creditcard_df['BALANCE'])"
   ]
  },
  {
   "cell_type": "code",
   "execution_count": null,
   "metadata": {
    "id": "MlUuFdqgg5k-"
   },
   "outputs": [],
   "source": [
    "scaler = StandardScaler()\n",
    "creditcard_df_scaled = scaler.fit_transform(creditcard_df)"
   ]
  },
  {
   "cell_type": "code",
   "execution_count": null,
   "metadata": {
    "colab": {
     "base_uri": "https://localhost:8080/",
     "height": 55
    },
    "id": "qeR-7Bg-hiCc",
    "outputId": "74f8a4d2-a12f-434d-daac-73736add265f"
   },
   "outputs": [],
   "source": [
    "type(creditcard_df_scaled), type(creditcard_df)"
   ]
  },
  {
   "cell_type": "code",
   "execution_count": null,
   "metadata": {
    "colab": {
     "base_uri": "https://localhost:8080/",
     "height": 55
    },
    "id": "nbRV_BQXhYNO",
    "outputId": "39e5be28-a791-496f-fab6-a8eeb23a934a"
   },
   "outputs": [],
   "source": [
    "min(creditcard_df_scaled[0]), max(creditcard_df_scaled[0])"
   ]
  },
  {
   "cell_type": "code",
   "execution_count": null,
   "metadata": {
    "colab": {
     "base_uri": "https://localhost:8080/",
     "height": 266
    },
    "id": "iLUESADnhxUi",
    "outputId": "48aba3e0-96af-4b79-fe88-89f5c308110a"
   },
   "outputs": [],
   "source": [
    "creditcard_df_scaled"
   ]
  },
  {
   "cell_type": "code",
   "execution_count": null,
   "metadata": {
    "id": "gpQmxJoEh_U0"
   },
   "outputs": [],
   "source": [
    "wcss_1 = []\n",
    "range_values = range(1, 20)\n",
    "for i in range_values:\n",
    "  kmeans = KMeans(n_clusters=i)\n",
    "  kmeans.fit(creditcard_df_scaled)\n",
    "  wcss_1.append(kmeans.inertia_)"
   ]
  },
  {
   "cell_type": "code",
   "execution_count": null,
   "metadata": {
    "colab": {
     "base_uri": "https://localhost:8080/",
     "height": 55
    },
    "id": "CfJHuY96iqTu",
    "outputId": "5a5495f3-90ea-43ac-e2d8-539c79366edf"
   },
   "outputs": [],
   "source": [
    "print(wcss_1)"
   ]
  },
  {
   "cell_type": "code",
   "execution_count": null,
   "metadata": {
    "colab": {
     "base_uri": "https://localhost:8080/",
     "height": 299
    },
    "id": "fPfOnKtKi9RH",
    "outputId": "39b4a19c-5ea0-48b2-8985-060a77c3a6be"
   },
   "outputs": [],
   "source": [
    "plt.plot(wcss_1, 'bx-')\n",
    "plt.xlabel('Clusters')\n",
    "plt.ylabel('WCSS');"
   ]
  },
  {
   "cell_type": "markdown",
   "metadata": {
    "id": "m_jo7mJ4C8R9"
   },
   "source": [
    "## Agrupamento com k-means"
   ]
  },
  {
   "cell_type": "code",
   "execution_count": null,
   "metadata": {
    "id": "Oe5NTSYIkyVL"
   },
   "outputs": [],
   "source": [
    "kmeans = KMeans(n_clusters=8)\n",
    "kmeans.fit(creditcard_df_scaled)\n",
    "labels = kmeans.labels_"
   ]
  },
  {
   "cell_type": "code",
   "execution_count": null,
   "metadata": {
    "colab": {
     "base_uri": "https://localhost:8080/",
     "height": 55
    },
    "id": "fEpr2abMlF9L",
    "outputId": "32892c35-e298-4d2f-a5f3-1a6bc12cd4ae"
   },
   "outputs": [],
   "source": [
    "labels, len(labels)"
   ]
  },
  {
   "cell_type": "code",
   "execution_count": null,
   "metadata": {
    "colab": {
     "base_uri": "https://localhost:8080/",
     "height": 72
    },
    "id": "Ao05M_JslSOF",
    "outputId": "a44c6cdc-753f-4a30-ebb9-dbad29ee8dfc"
   },
   "outputs": [],
   "source": [
    "np.unique(labels, return_counts=True)"
   ]
  },
  {
   "cell_type": "code",
   "execution_count": null,
   "metadata": {
    "colab": {
     "base_uri": "https://localhost:8080/",
     "height": 882
    },
    "id": "JHNUCn-nlzJb",
    "outputId": "d0223bee-835b-4483-820f-c16e78f43175"
   },
   "outputs": [],
   "source": [
    "kmeans.cluster_centers_"
   ]
  },
  {
   "cell_type": "code",
   "execution_count": null,
   "metadata": {
    "colab": {
     "base_uri": "https://localhost:8080/",
     "height": 323
    },
    "id": "Bb2M1umMmAxX",
    "outputId": "3db095fd-6c4c-4e17-be1e-bb2a7ac09ce6"
   },
   "outputs": [],
   "source": [
    "cluster_centers = pd.DataFrame(data = kmeans.cluster_centers_, columns = [creditcard_df.columns])\n",
    "cluster_centers"
   ]
  },
  {
   "cell_type": "markdown",
   "metadata": {
    "id": "9K8azhHQm3D4"
   },
   "source": [
    "- Grupo 0 (VIP/Prime): limite do cartão alto (15570) e o mais alto percentual de pagamento da fatura completa (0.47). Aumentar o limite do cartão e o hábito de compras\n",
    "\n",
    "- Grupo 3: Clientes que pagam poucos juros para o banco e são cuidadosos com seu dinheiro. Possui menos dinheiro na conta corrente (104) e não sacam muito dinheiro do limite do cartão (302). 23% de pagamento da fatura completa do cartão de crédito\n",
    "\n",
    "- Grupo 5: usam o cartão de crédito como \"empréstimo\" (setor mais lucrativo para o banco), possuem muito dinheiro na conta corrente (5119) e sacam muito dinheiro do cartão de crédito (5246), compram pouco (0.3) e usam bastante o limite do cartão para saques (0.51). Pagam muito pouco a fatura completa (0.03)\n",
    "\n",
    "- Grupo 7 (clientes novos): clientes mais novos (7.23) e que mantém pouco dinheiro na conta corrente (863)"
   ]
  },
  {
   "cell_type": "code",
   "execution_count": null,
   "metadata": {
    "colab": {
     "base_uri": "https://localhost:8080/",
     "height": 323
    },
    "id": "B-zGqkXrmXRv",
    "outputId": "52fff8bf-1f93-4856-c20d-7316ab138c24"
   },
   "outputs": [],
   "source": [
    "cluster_centers = scaler.inverse_transform(cluster_centers)\n",
    "cluster_centers = pd.DataFrame(data = cluster_centers, columns = [creditcard_df.columns])\n",
    "cluster_centers"
   ]
  },
  {
   "cell_type": "code",
   "execution_count": null,
   "metadata": {
    "colab": {
     "base_uri": "https://localhost:8080/",
     "height": 55
    },
    "id": "kTACXMxmtXci",
    "outputId": "ed8ea355-5bcf-4e0b-ccd0-a6f845a1ae19"
   },
   "outputs": [],
   "source": [
    "labels, len(labels)"
   ]
  },
  {
   "cell_type": "code",
   "execution_count": null,
   "metadata": {
    "colab": {
     "base_uri": "https://localhost:8080/",
     "height": 228
    },
    "id": "jaKaceO3tKzI",
    "outputId": "a7b12479-dbc2-41c9-8106-b47823a7c5f5"
   },
   "outputs": [],
   "source": [
    "creditcard_df_cluster = pd.concat([creditcard_df, pd.DataFrame({'cluster': labels})], axis = 1)\n",
    "creditcard_df_cluster.head()"
   ]
  },
  {
   "cell_type": "code",
   "execution_count": null,
   "metadata": {
    "colab": {
     "base_uri": "https://localhost:8080/",
     "height": 1000
    },
    "id": "6dmlEos6t-Cr",
    "outputId": "0c8b4a70-6030-4bb9-fe55-6b666620a4ac"
   },
   "outputs": [],
   "source": [
    "for i in creditcard_df.columns:\n",
    "  plt.figure(figsize=(35,5))\n",
    "  for j in range(8):\n",
    "    plt.subplot(1, 8, j + 1)\n",
    "    cluster = creditcard_df_cluster[creditcard_df_cluster['cluster'] == j]\n",
    "    cluster[i].hist(bins = 20)\n",
    "    plt.title('{} \\nCluster {}'.format(i, j))\n",
    "  plt.show()"
   ]
  },
  {
   "cell_type": "code",
   "execution_count": null,
   "metadata": {
    "colab": {
     "base_uri": "https://localhost:8080/",
     "height": 228
    },
    "id": "63Bwom0HvqDr",
    "outputId": "241732f5-b974-4b29-9ce0-cf52b3644497"
   },
   "outputs": [],
   "source": [
    "credit_ordered = creditcard_df_cluster.sort_values(by = 'cluster')\n",
    "credit_ordered.head()"
   ]
  },
  {
   "cell_type": "code",
   "execution_count": null,
   "metadata": {
    "colab": {
     "base_uri": "https://localhost:8080/",
     "height": 228
    },
    "id": "d-bTs4USv8Mp",
    "outputId": "54185fc7-4c98-44fc-c05a-bc349caa8ed6"
   },
   "outputs": [],
   "source": [
    "credit_ordered.tail()"
   ]
  },
  {
   "cell_type": "code",
   "execution_count": null,
   "metadata": {
    "id": "UjvonvAFwAax"
   },
   "outputs": [],
   "source": [
    "credit_ordered.to_csv('cluster.csv')"
   ]
  },
  {
   "cell_type": "markdown",
   "metadata": {
    "id": "UVTd7FYLNCAE"
   },
   "source": [
    "## Aplicação de PCA (principal component analysis) e visualização dos resultados"
   ]
  },
  {
   "cell_type": "code",
   "execution_count": null,
   "metadata": {
    "colab": {
     "base_uri": "https://localhost:8080/",
     "height": 160
    },
    "id": "57V9g7rBx3It",
    "outputId": "93684cb8-0079-4e9c-f854-525f4b6d7d38"
   },
   "outputs": [],
   "source": [
    "pca = PCA(n_components=2)\n",
    "principal_comp = pca.fit_transform(creditcard_df_scaled)\n",
    "principal_comp"
   ]
  },
  {
   "cell_type": "code",
   "execution_count": null,
   "metadata": {
    "colab": {
     "base_uri": "https://localhost:8080/",
     "height": 228
    },
    "id": "ZzL2Qrh7yL9o",
    "outputId": "885f08df-4fb7-4a24-c689-96b6cf4c0440"
   },
   "outputs": [],
   "source": [
    "pca_df = pd.DataFrame(data = principal_comp, columns=['pca1', 'pca2'])\n",
    "pca_df.head()"
   ]
  },
  {
   "cell_type": "code",
   "execution_count": null,
   "metadata": {
    "colab": {
     "base_uri": "https://localhost:8080/",
     "height": 228
    },
    "id": "nhfQ-A8Kyh0C",
    "outputId": "92df311b-a033-4473-ee25-e09a406a5f70"
   },
   "outputs": [],
   "source": [
    "pca_df = pd.concat([pca_df, pd.DataFrame({'cluster': labels})], axis = 1)\n",
    "pca_df.head()"
   ]
  },
  {
   "cell_type": "code",
   "execution_count": null,
   "metadata": {
    "colab": {
     "base_uri": "https://localhost:8080/",
     "height": 644
    },
    "id": "Qz_JZ-nIywLx",
    "outputId": "150b120c-ac63-4666-912d-e1d76f8f5be0"
   },
   "outputs": [],
   "source": [
    "plt.figure(figsize=(10,10))\n",
    "sns.scatterplot(x = 'pca1', y = 'pca2', hue = 'cluster', data = pca_df, palette = ['red', 'green', 'blue', 'pink', 'yellow', 'gray', 'purple', 'black'])"
   ]
  },
  {
   "cell_type": "markdown",
   "metadata": {
    "id": "-wRQqOeB5Zh5"
   },
   "source": [
    "## Aplicação de autoencoders"
   ]
  },
  {
   "cell_type": "code",
   "execution_count": null,
   "metadata": {
    "id": "B-93YH4F3I6T"
   },
   "outputs": [],
   "source": [
    "# 18 -> 10\n",
    "# Elbow\n",
    "# K-means\n",
    "# PCA"
   ]
  },
  {
   "cell_type": "code",
   "execution_count": null,
   "metadata": {
    "colab": {
     "base_uri": "https://localhost:8080/",
     "height": 55
    },
    "id": "b3jQMbcP3kli",
    "outputId": "d673ac99-b280-420d-cf2f-0dba9943a0a8"
   },
   "outputs": [],
   "source": [
    "creditcard_df_scaled.shape"
   ]
  },
  {
   "cell_type": "code",
   "execution_count": null,
   "metadata": {
    "id": "q93vGBj53p7Y"
   },
   "outputs": [],
   "source": [
    "# 17 -> 500 -> 2000 -> 10 -> 2000 -> 500 -> 17\n",
    "from tensorflow.keras.layers import Input, Dense\n",
    "from tensorflow.keras.models import Model"
   ]
  },
  {
   "cell_type": "code",
   "execution_count": null,
   "metadata": {
    "id": "IGxzGkfa5O7b"
   },
   "outputs": [],
   "source": [
    "input_df = Input(shape=(17,))\n",
    "x = Dense(500, activation='relu')(input_df)\n",
    "x = Dense(2000, activation='relu')(x)\n",
    "\n",
    "encoded = Dense(10, activation='relu')(x)\n",
    "\n",
    "x = Dense(2000, activation='relu')(encoded)\n",
    "x = Dense(500, activation='relu')(x)\n",
    "\n",
    "decoded = Dense(17)(x)"
   ]
  },
  {
   "cell_type": "code",
   "execution_count": null,
   "metadata": {
    "id": "Sg7BufFW6T8j"
   },
   "outputs": [],
   "source": [
    "# autoencoder\n",
    "autoencoder = Model(input_df, decoded)"
   ]
  },
  {
   "cell_type": "code",
   "execution_count": null,
   "metadata": {
    "id": "RyPhtDQI6jHf"
   },
   "outputs": [],
   "source": [
    "# encoder\n",
    "encoder = Model(input_df, encoded)"
   ]
  },
  {
   "cell_type": "code",
   "execution_count": null,
   "metadata": {
    "id": "qk9kXWSI7lTg"
   },
   "outputs": [],
   "source": [
    "autoencoder.compile(optimizer = 'Adam', loss = 'mean_squared_error')"
   ]
  },
  {
   "cell_type": "code",
   "execution_count": null,
   "metadata": {
    "colab": {
     "base_uri": "https://localhost:8080/",
     "height": 1000
    },
    "id": "dLiIouTi7nrV",
    "outputId": "d7dd3712-6292-413c-81bd-62d9397d8a95"
   },
   "outputs": [],
   "source": [
    "autoencoder.fit(creditcard_df_scaled, creditcard_df_scaled, epochs = 50)"
   ]
  },
  {
   "cell_type": "code",
   "execution_count": null,
   "metadata": {
    "colab": {
     "base_uri": "https://localhost:8080/",
     "height": 55
    },
    "id": "XDidlKGz9Brh",
    "outputId": "3f8f2479-2aee-41e3-ffb6-6b38aec2f931"
   },
   "outputs": [],
   "source": [
    "creditcard_df_scaled.shape"
   ]
  },
  {
   "cell_type": "code",
   "execution_count": null,
   "metadata": {
    "id": "nuuKSB_y9GeY"
   },
   "outputs": [],
   "source": [
    "compact = encoder.predict(creditcard_df_scaled)"
   ]
  },
  {
   "cell_type": "code",
   "execution_count": null,
   "metadata": {
    "colab": {
     "base_uri": "https://localhost:8080/",
     "height": 55
    },
    "id": "GBQxXpFa9UR9",
    "outputId": "e19a0854-f05c-4dd6-b183-b74941fc1b49"
   },
   "outputs": [],
   "source": [
    "compact.shape"
   ]
  },
  {
   "cell_type": "code",
   "execution_count": null,
   "metadata": {
    "colab": {
     "base_uri": "https://localhost:8080/",
     "height": 108
    },
    "id": "y-bm_fPY9YVN",
    "outputId": "3824a33b-d4c7-4832-8f18-f21388959d73"
   },
   "outputs": [],
   "source": [
    "creditcard_df_scaled[0]"
   ]
  },
  {
   "cell_type": "code",
   "execution_count": null,
   "metadata": {
    "colab": {
     "base_uri": "https://localhost:8080/",
     "height": 90
    },
    "id": "bsT_W5D69bVI",
    "outputId": "4191b87d-1efc-4f52-f69c-956796a1cd4d"
   },
   "outputs": [],
   "source": [
    "compact[0]"
   ]
  },
  {
   "cell_type": "code",
   "execution_count": null,
   "metadata": {
    "id": "sZQZ3SCZ-B4j"
   },
   "outputs": [],
   "source": [
    "wcss_2 = []\n",
    "range_values = range(1, 20)\n",
    "for i in range_values:\n",
    "  kmeans = KMeans(n_clusters=i)\n",
    "  kmeans.fit(compact)\n",
    "  wcss_2.append(kmeans.inertia_)"
   ]
  },
  {
   "cell_type": "code",
   "execution_count": null,
   "metadata": {
    "colab": {
     "base_uri": "https://localhost:8080/",
     "height": 299
    },
    "id": "YqKQSFnK-OCY",
    "outputId": "b854dc26-52e0-4d31-99c1-38ab7e7c4e3e"
   },
   "outputs": [],
   "source": [
    "plt.plot(wcss_2, 'bx-')\n",
    "plt.xlabel('Clusters')\n",
    "plt.ylabel('WCSS');"
   ]
  },
  {
   "cell_type": "code",
   "execution_count": null,
   "metadata": {
    "colab": {
     "base_uri": "https://localhost:8080/",
     "height": 285
    },
    "id": "zlxjn31Y-cVT",
    "outputId": "cd3a6917-f3a1-4cb4-8fb8-96a3c89c89f3"
   },
   "outputs": [],
   "source": [
    "plt.plot(wcss_1, 'bx-', color = 'r')\n",
    "plt.plot(wcss_2, 'bx-', color = 'g');"
   ]
  },
  {
   "cell_type": "code",
   "execution_count": null,
   "metadata": {
    "colab": {
     "base_uri": "https://localhost:8080/",
     "height": 90
    },
    "id": "Ud10Z8wW-z1x",
    "outputId": "5093bfe0-9e4e-49c3-ee55-340a01b3e1c8"
   },
   "outputs": [],
   "source": [
    "kmeans = KMeans(n_clusters=4)\n",
    "kmeans.fit(compact)"
   ]
  },
  {
   "cell_type": "code",
   "execution_count": null,
   "metadata": {
    "colab": {
     "base_uri": "https://localhost:8080/",
     "height": 55
    },
    "id": "aDoqqM3z-_Pl",
    "outputId": "f312e667-cc55-4f7f-a568-9759bbf6e907"
   },
   "outputs": [],
   "source": [
    "labels = kmeans.labels_\n",
    "labels, labels.shape"
   ]
  },
  {
   "cell_type": "code",
   "execution_count": null,
   "metadata": {
    "colab": {
     "base_uri": "https://localhost:8080/",
     "height": 228
    },
    "id": "SMJet_XZ_KEC",
    "outputId": "6e083c5e-08a0-4e0b-fae6-dddf9da97a82"
   },
   "outputs": [],
   "source": [
    "df_cluster_at = pd.concat([creditcard_df, pd.DataFrame({'cluster': labels})], axis = 1)\n",
    "df_cluster_at.head()"
   ]
  },
  {
   "cell_type": "code",
   "execution_count": null,
   "metadata": {
    "colab": {
     "base_uri": "https://localhost:8080/",
     "height": 228
    },
    "id": "L-pnVLN5_5YH",
    "outputId": "c5136a23-1c91-4389-c4b2-4fe02b8900a8"
   },
   "outputs": [],
   "source": [
    "pca = PCA(n_components = 2)\n",
    "prin_comp = pca.fit_transform(compact)\n",
    "pca_df = pd.DataFrame(data = prin_comp, columns = ['pca1', 'pca2'])\n",
    "pca_df.head()"
   ]
  },
  {
   "cell_type": "code",
   "execution_count": null,
   "metadata": {
    "colab": {
     "base_uri": "https://localhost:8080/",
     "height": 228
    },
    "id": "IkYV6zbAAOlT",
    "outputId": "830ab091-0118-4203-a7af-76b99b3ebfbb"
   },
   "outputs": [],
   "source": [
    "pca_df = pd.concat([pca_df, pd.DataFrame({'cluster': labels})], axis = 1)\n",
    "pca_df.head()"
   ]
  },
  {
   "cell_type": "code",
   "execution_count": null,
   "metadata": {
    "colab": {
     "base_uri": "https://localhost:8080/",
     "height": 644
    },
    "id": "IQTcH8PFAfkK",
    "outputId": "3634a837-c663-4444-cd7b-b4f97e1918a3"
   },
   "outputs": [],
   "source": [
    "plt.figure(figsize=(10,10))\n",
    "sns.scatterplot(x = 'pca1', y = 'pca2', hue = 'cluster', data = pca_df, palette = ['red', 'green', 'blue', 'pink'])"
   ]
  },
  {
   "cell_type": "code",
   "execution_count": null,
   "metadata": {
    "colab": {
     "base_uri": "https://localhost:8080/",
     "height": 228
    },
    "id": "lzX58D2pA_Bs",
    "outputId": "d93424a7-bc03-442f-da1e-11dd34822f5a"
   },
   "outputs": [],
   "source": [
    "df_cluster_ordered = df_cluster_at.sort_values(by = 'cluster')\n",
    "df_cluster_ordered.head()"
   ]
  },
  {
   "cell_type": "code",
   "execution_count": null,
   "metadata": {
    "colab": {
     "base_uri": "https://localhost:8080/",
     "height": 228
    },
    "id": "8dTgDZOxBH0q",
    "outputId": "4dfef4ee-d212-41ef-b970-cdca79b19441"
   },
   "outputs": [],
   "source": [
    "df_cluster_ordered.tail()"
   ]
  },
  {
   "cell_type": "code",
   "execution_count": null,
   "metadata": {
    "id": "01uWrL1sBLMz"
   },
   "outputs": [],
   "source": [
    "df_cluster_ordered.to_excel('cluster_ordereded.xls')"
   ]
  }
 ],
 "metadata": {
  "colab": {
   "provenance": []
  },
  "kernelspec": {
   "display_name": "Python 3 (ipykernel)",
   "language": "python",
   "name": "python3"
  },
  "language_info": {
   "codemirror_mode": {
    "name": "ipython",
    "version": 3
   },
   "file_extension": ".py",
   "mimetype": "text/x-python",
   "name": "python",
   "nbconvert_exporter": "python",
   "pygments_lexer": "ipython3",
   "version": "3.11.5"
  }
 },
 "nbformat": 4,
 "nbformat_minor": 1
}
